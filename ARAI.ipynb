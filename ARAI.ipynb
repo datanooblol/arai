{
 "cells": [
  {
   "cell_type": "code",
   "execution_count": 1,
   "metadata": {},
   "outputs": [],
   "source": [
    "%load_ext autoreload\n",
    "%autoreload 2"
   ]
  },
  {
   "cell_type": "code",
   "execution_count": 2,
   "metadata": {},
   "outputs": [],
   "source": [
    "import pymupdf4llm\n",
    "import uuid\n",
    "from arai.utils import Document\n",
    "from arai.llm_utils import llm_wrapper"
   ]
  },
  {
   "cell_type": "code",
   "execution_count": 7,
   "metadata": {},
   "outputs": [],
   "source": [
    "path = './IS_example/STORM.pdf'"
   ]
  },
  {
   "cell_type": "code",
   "execution_count": 8,
   "metadata": {},
   "outputs": [
    {
     "name": "stdout",
     "output_type": "stream",
     "text": [
      "Processing ./IS_example/STORM.pdf...\n",
      "[                                        ] (0/2[=                                       ] ( 1/2[==                                      ] ( 2/27=[====                                    ] ( 3/27[=====                                   ] ( 4/2=[=======                                 ] ( 5/2[========                                ] ( 6/27=[==========                              ] ( 7/27[===========                             ] ( 8/2=[=============                           ] ( 9/2[==============                          ] (10/27=[================                        ] (11/27[=================                       ] (12/2=[===================                     ] (13/2[====================                    ] (14/27=[======================                  ] (15/27[=======================                 ] (16/2=[=========================               ] (17/2[==========================              ] (18/27=[============================            ] (19/27[=============================           ] (20/2=[===============================         ] (21/2[================================        ] (22/27=[==================================      ] (23/27[===================================     ] (24/2=[=====================================   ] (25/2[======================================  ] (26/27[========================================] (27/27]\n"
     ]
    }
   ],
   "source": [
    "pages = pymupdf4llm.to_markdown(path, page_chunks=True)"
   ]
  },
  {
   "cell_type": "code",
   "execution_count": 249,
   "metadata": {},
   "outputs": [],
   "source": [
    "documents = [\n",
    "    Document(\n",
    "        id=str(uuid.uuid4()), \n",
    "        page_content=page['text'], \n",
    "        metadata=dict(\n",
    "            page=page['metadata']['page'],\n",
    "            source=page['metadata']['file_path']\n",
    "        )\n",
    "    ) \n",
    "    for page in pages\n",
    "]"
   ]
  },
  {
   "cell_type": "code",
   "execution_count": 250,
   "metadata": {},
   "outputs": [],
   "source": [
    "page_1 = documents[0]\n",
    "\n",
    "background = llm_wrapper(prompt=f\"{page_1.page_content}\\n\\nRead the text above and summarize it.\")"
   ]
  },
  {
   "cell_type": "code",
   "execution_count": 3,
   "metadata": {},
   "outputs": [],
   "source": [
    "from arai.agents.inputagent import InputAgent\n",
    "from arai.agents.organizer import OrganizerAgent\n",
    "from arai.agents.jargon_detector import JargonDetector\n",
    "from arai.memories import EventBus\n",
    "\n",
    "event_bus = EventBus()\n",
    "input_agent = InputAgent()\n",
    "organizer_agent = OrganizerAgent()\n",
    "jargon_translator = JargonDetector()"
   ]
  },
  {
   "cell_type": "code",
   "execution_count": 4,
   "metadata": {},
   "outputs": [
    {
     "name": "stdout",
     "output_type": "stream",
     "text": [
      "InputAgent: Processing input: S.O.S. is an abbreviation for Save Our Souls.\n",
      "OrganizerAgent: Routing request...\n",
      "OrganizerAgent: parsing\n",
      "JargonDetector: Extracting jargons, abbreviations, acronyms from INPUT...\n",
      "JargonDetector: parsing\n"
     ]
    }
   ],
   "source": [
    "input_agent.start_conversation(user_input=\"S.O.S. is an abbreviation for Save Our Souls.\")"
   ]
  },
  {
   "cell_type": "code",
   "execution_count": 5,
   "metadata": {},
   "outputs": [
    {
     "data": {
      "text/plain": [
       "{'user_input': 'S.O.S. is an abbreviation for Save Our Souls.',\n",
       " 'jargons': {'jargons': [{'jargon': 'S.O.S.'}]},\n",
       " 'source': 'JargonDetector',\n",
       " 'timestamp': 1734830378,\n",
       " 'event_type': 'editing_needed'}"
      ]
     },
     "execution_count": 5,
     "metadata": {},
     "output_type": "execute_result"
    }
   ],
   "source": [
    "event_bus.get_latest_event()"
   ]
  },
  {
   "cell_type": "code",
   "execution_count": 6,
   "metadata": {},
   "outputs": [
    {
     "data": {
      "text/plain": [
       "[{'user_input': 'S.O.S. is an abbreviation for Save Our Souls.',\n",
       "  'source': 'InputAgent',\n",
       "  'timestamp': 1734830376,\n",
       "  'event_type': 'input_received'},\n",
       " {'user_input': 'S.O.S. is an abbreviation for Save Our Souls.',\n",
       "  'reason': 'INPUT contains jargons, abbreviations, or acronyms',\n",
       "  'source': 'OrganizerAgent',\n",
       "  'timestamp': 1734830377,\n",
       "  'event_type': 'jargon_needed'},\n",
       " {'user_input': 'S.O.S. is an abbreviation for Save Our Souls.',\n",
       "  'jargons': {'jargons': [{'jargon': 'S.O.S.'}]},\n",
       "  'source': 'JargonDetector',\n",
       "  'timestamp': 1734830378,\n",
       "  'event_type': 'editing_needed'}]"
      ]
     },
     "execution_count": 6,
     "metadata": {},
     "output_type": "execute_result"
    }
   ],
   "source": [
    "event_bus.get_events()"
   ]
  },
  {
   "cell_type": "code",
   "execution_count": 7,
   "metadata": {},
   "outputs": [],
   "source": [
    "event_bus.clear_event_bus()"
   ]
  },
  {
   "cell_type": "code",
   "execution_count": null,
   "metadata": {},
   "outputs": [],
   "source": []
  }
 ],
 "metadata": {
  "kernelspec": {
   "display_name": ".venv",
   "language": "python",
   "name": "python3"
  },
  "language_info": {
   "codemirror_mode": {
    "name": "ipython",
    "version": 3
   },
   "file_extension": ".py",
   "mimetype": "text/x-python",
   "name": "python",
   "nbconvert_exporter": "python",
   "pygments_lexer": "ipython3",
   "version": "3.10.16"
  }
 },
 "nbformat": 4,
 "nbformat_minor": 2
}
